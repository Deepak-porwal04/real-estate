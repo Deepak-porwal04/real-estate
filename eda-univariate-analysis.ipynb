{
 "cells": [
  {
   "cell_type": "code",
   "execution_count": 1,
   "metadata": {},
   "outputs": [],
   "source": [
    "import numpy as np\n",
    "import pandas as pd\n",
    "import matplotlib.pyplot as plt\n",
    "import seaborn as sns"
   ]
  },
  {
   "cell_type": "code",
   "execution_count": 2,
   "metadata": {},
   "outputs": [],
   "source": [
    "df = pd.read_csv('gurgaon_properties_cleaned_v2.csv')"
   ]
  },
  {
   "cell_type": "code",
   "execution_count": 3,
   "metadata": {},
   "outputs": [
    {
     "data": {
      "text/html": [
       "<div>\n",
       "<style scoped>\n",
       "    .dataframe tbody tr th:only-of-type {\n",
       "        vertical-align: middle;\n",
       "    }\n",
       "\n",
       "    .dataframe tbody tr th {\n",
       "        vertical-align: top;\n",
       "    }\n",
       "\n",
       "    .dataframe thead th {\n",
       "        text-align: right;\n",
       "    }\n",
       "</style>\n",
       "<table border=\"1\" class=\"dataframe\">\n",
       "  <thead>\n",
       "    <tr style=\"text-align: right;\">\n",
       "      <th></th>\n",
       "      <th>property_type</th>\n",
       "      <th>society</th>\n",
       "      <th>sector</th>\n",
       "      <th>price</th>\n",
       "      <th>price_per_sqft</th>\n",
       "      <th>area</th>\n",
       "      <th>areaWithType</th>\n",
       "      <th>bedRoom</th>\n",
       "      <th>bathroom</th>\n",
       "      <th>balcony</th>\n",
       "      <th>...</th>\n",
       "      <th>super_built_up_area</th>\n",
       "      <th>built_up_area</th>\n",
       "      <th>carpet_area</th>\n",
       "      <th>study room</th>\n",
       "      <th>servant room</th>\n",
       "      <th>store room</th>\n",
       "      <th>pooja room</th>\n",
       "      <th>others</th>\n",
       "      <th>furnishing_type</th>\n",
       "      <th>luxury_score</th>\n",
       "    </tr>\n",
       "  </thead>\n",
       "  <tbody>\n",
       "    <tr>\n",
       "      <th>0</th>\n",
       "      <td>flat</td>\n",
       "      <td>signature global park 4</td>\n",
       "      <td>sector 36</td>\n",
       "      <td>0.82</td>\n",
       "      <td>7585.0</td>\n",
       "      <td>1081.0</td>\n",
       "      <td>Super Built up area 1081(100.43 sq.m.)Carpet a...</td>\n",
       "      <td>3</td>\n",
       "      <td>2</td>\n",
       "      <td>2</td>\n",
       "      <td>...</td>\n",
       "      <td>1081.0</td>\n",
       "      <td>NaN</td>\n",
       "      <td>650.0</td>\n",
       "      <td>0</td>\n",
       "      <td>0</td>\n",
       "      <td>0</td>\n",
       "      <td>0</td>\n",
       "      <td>0</td>\n",
       "      <td>0</td>\n",
       "      <td>8</td>\n",
       "    </tr>\n",
       "    <tr>\n",
       "      <th>1</th>\n",
       "      <td>flat</td>\n",
       "      <td>smart world gems</td>\n",
       "      <td>sector 89</td>\n",
       "      <td>0.95</td>\n",
       "      <td>8600.0</td>\n",
       "      <td>1105.0</td>\n",
       "      <td>Carpet area: 1103 (102.47 sq.m.)</td>\n",
       "      <td>2</td>\n",
       "      <td>2</td>\n",
       "      <td>2</td>\n",
       "      <td>...</td>\n",
       "      <td>NaN</td>\n",
       "      <td>NaN</td>\n",
       "      <td>1103.0</td>\n",
       "      <td>1</td>\n",
       "      <td>1</td>\n",
       "      <td>0</td>\n",
       "      <td>0</td>\n",
       "      <td>0</td>\n",
       "      <td>0</td>\n",
       "      <td>38</td>\n",
       "    </tr>\n",
       "    <tr>\n",
       "      <th>2</th>\n",
       "      <td>flat</td>\n",
       "      <td>pyramid elite</td>\n",
       "      <td>sector 86</td>\n",
       "      <td>0.46</td>\n",
       "      <td>79.0</td>\n",
       "      <td>58228.0</td>\n",
       "      <td>Carpet area: 58141 (5401.48 sq.m.)</td>\n",
       "      <td>2</td>\n",
       "      <td>2</td>\n",
       "      <td>1</td>\n",
       "      <td>...</td>\n",
       "      <td>NaN</td>\n",
       "      <td>NaN</td>\n",
       "      <td>58141.0</td>\n",
       "      <td>0</td>\n",
       "      <td>0</td>\n",
       "      <td>0</td>\n",
       "      <td>0</td>\n",
       "      <td>0</td>\n",
       "      <td>0</td>\n",
       "      <td>15</td>\n",
       "    </tr>\n",
       "    <tr>\n",
       "      <th>3</th>\n",
       "      <td>flat</td>\n",
       "      <td>breez global hill view</td>\n",
       "      <td>sohna road</td>\n",
       "      <td>0.32</td>\n",
       "      <td>5470.0</td>\n",
       "      <td>585.0</td>\n",
       "      <td>Built Up area: 1000 (92.9 sq.m.)Carpet area: 5...</td>\n",
       "      <td>2</td>\n",
       "      <td>2</td>\n",
       "      <td>1</td>\n",
       "      <td>...</td>\n",
       "      <td>NaN</td>\n",
       "      <td>1000.0</td>\n",
       "      <td>585.0</td>\n",
       "      <td>0</td>\n",
       "      <td>0</td>\n",
       "      <td>0</td>\n",
       "      <td>0</td>\n",
       "      <td>0</td>\n",
       "      <td>0</td>\n",
       "      <td>49</td>\n",
       "    </tr>\n",
       "    <tr>\n",
       "      <th>4</th>\n",
       "      <td>flat</td>\n",
       "      <td>bestech park view sanskruti</td>\n",
       "      <td>sector 92</td>\n",
       "      <td>1.60</td>\n",
       "      <td>8020.0</td>\n",
       "      <td>1995.0</td>\n",
       "      <td>Super Built up area 1995(185.34 sq.m.)Built Up...</td>\n",
       "      <td>3</td>\n",
       "      <td>4</td>\n",
       "      <td>3+</td>\n",
       "      <td>...</td>\n",
       "      <td>1995.0</td>\n",
       "      <td>1615.0</td>\n",
       "      <td>1476.0</td>\n",
       "      <td>0</td>\n",
       "      <td>1</td>\n",
       "      <td>0</td>\n",
       "      <td>0</td>\n",
       "      <td>1</td>\n",
       "      <td>1</td>\n",
       "      <td>174</td>\n",
       "    </tr>\n",
       "  </tbody>\n",
       "</table>\n",
       "<p>5 rows × 23 columns</p>\n",
       "</div>"
      ],
      "text/plain": [
       "  property_type                      society      sector  price  \\\n",
       "0          flat      signature global park 4   sector 36   0.82   \n",
       "1          flat             smart world gems   sector 89   0.95   \n",
       "2          flat                pyramid elite   sector 86   0.46   \n",
       "3          flat       breez global hill view  sohna road   0.32   \n",
       "4          flat  bestech park view sanskruti   sector 92   1.60   \n",
       "\n",
       "   price_per_sqft     area                                       areaWithType  \\\n",
       "0          7585.0   1081.0  Super Built up area 1081(100.43 sq.m.)Carpet a...   \n",
       "1          8600.0   1105.0                   Carpet area: 1103 (102.47 sq.m.)   \n",
       "2            79.0  58228.0                 Carpet area: 58141 (5401.48 sq.m.)   \n",
       "3          5470.0    585.0  Built Up area: 1000 (92.9 sq.m.)Carpet area: 5...   \n",
       "4          8020.0   1995.0  Super Built up area 1995(185.34 sq.m.)Built Up...   \n",
       "\n",
       "   bedRoom  bathroom balcony  ...  super_built_up_area built_up_area  \\\n",
       "0        3         2       2  ...               1081.0           NaN   \n",
       "1        2         2       2  ...                  NaN           NaN   \n",
       "2        2         2       1  ...                  NaN           NaN   \n",
       "3        2         2       1  ...                  NaN        1000.0   \n",
       "4        3         4      3+  ...               1995.0        1615.0   \n",
       "\n",
       "  carpet_area  study room  servant room  store room  pooja room  others  \\\n",
       "0       650.0           0             0           0           0       0   \n",
       "1      1103.0           1             1           0           0       0   \n",
       "2     58141.0           0             0           0           0       0   \n",
       "3       585.0           0             0           0           0       0   \n",
       "4      1476.0           0             1           0           0       1   \n",
       "\n",
       "   furnishing_type  luxury_score  \n",
       "0                0             8  \n",
       "1                0            38  \n",
       "2                0            15  \n",
       "3                0            49  \n",
       "4                1           174  \n",
       "\n",
       "[5 rows x 23 columns]"
      ]
     },
     "execution_count": 3,
     "metadata": {},
     "output_type": "execute_result"
    }
   ],
   "source": [
    "df.head()"
   ]
  },
  {
   "cell_type": "code",
   "execution_count": 4,
   "metadata": {},
   "outputs": [
    {
     "data": {
      "text/plain": [
       "(3803, 23)"
      ]
     },
     "execution_count": 4,
     "metadata": {},
     "output_type": "execute_result"
    }
   ],
   "source": [
    "df.shape"
   ]
  },
  {
   "cell_type": "code",
   "execution_count": 5,
   "metadata": {},
   "outputs": [
    {
     "name": "stdout",
     "output_type": "stream",
     "text": [
      "<class 'pandas.core.frame.DataFrame'>\n",
      "RangeIndex: 3803 entries, 0 to 3802\n",
      "Data columns (total 23 columns):\n",
      " #   Column               Non-Null Count  Dtype  \n",
      "---  ------               --------------  -----  \n",
      " 0   property_type        3803 non-null   object \n",
      " 1   society              3802 non-null   object \n",
      " 2   sector               3803 non-null   object \n",
      " 3   price                3785 non-null   float64\n",
      " 4   price_per_sqft       3785 non-null   float64\n",
      " 5   area                 3785 non-null   float64\n",
      " 6   areaWithType         3803 non-null   object \n",
      " 7   bedRoom              3803 non-null   int64  \n",
      " 8   bathroom             3803 non-null   int64  \n",
      " 9   balcony              3803 non-null   object \n",
      " 10  floorNum             3784 non-null   float64\n",
      " 11  facing               2698 non-null   object \n",
      " 12  agePossession        3803 non-null   object \n",
      " 13  super_built_up_area  1915 non-null   float64\n",
      " 14  built_up_area        1733 non-null   float64\n",
      " 15  carpet_area          1944 non-null   float64\n",
      " 16  study room           3803 non-null   int64  \n",
      " 17  servant room         3803 non-null   int64  \n",
      " 18  store room           3803 non-null   int64  \n",
      " 19  pooja room           3803 non-null   int64  \n",
      " 20  others               3803 non-null   int64  \n",
      " 21  furnishing_type      3803 non-null   int64  \n",
      " 22  luxury_score         3803 non-null   int64  \n",
      "dtypes: float64(7), int64(9), object(7)\n",
      "memory usage: 683.5+ KB\n"
     ]
    }
   ],
   "source": [
    "df.info()"
   ]
  },
  {
   "cell_type": "code",
   "execution_count": 6,
   "metadata": {},
   "outputs": [
    {
     "data": {
      "text/plain": [
       "126"
      ]
     },
     "execution_count": 6,
     "metadata": {},
     "output_type": "execute_result"
    }
   ],
   "source": [
    "df.duplicated().sum()"
   ]
  },
  {
   "cell_type": "code",
   "execution_count": 7,
   "metadata": {},
   "outputs": [],
   "source": [
    "df.drop_duplicates(inplace=True)"
   ]
  },
  {
   "cell_type": "code",
   "execution_count": 8,
   "metadata": {},
   "outputs": [
    {
     "data": {
      "text/html": [
       "<div>\n",
       "<style scoped>\n",
       "    .dataframe tbody tr th:only-of-type {\n",
       "        vertical-align: middle;\n",
       "    }\n",
       "\n",
       "    .dataframe tbody tr th {\n",
       "        vertical-align: top;\n",
       "    }\n",
       "\n",
       "    .dataframe thead th {\n",
       "        text-align: right;\n",
       "    }\n",
       "</style>\n",
       "<table border=\"1\" class=\"dataframe\">\n",
       "  <thead>\n",
       "    <tr style=\"text-align: right;\">\n",
       "      <th></th>\n",
       "      <th>property_type</th>\n",
       "      <th>society</th>\n",
       "      <th>sector</th>\n",
       "      <th>price</th>\n",
       "      <th>price_per_sqft</th>\n",
       "      <th>area</th>\n",
       "      <th>areaWithType</th>\n",
       "      <th>bedRoom</th>\n",
       "      <th>bathroom</th>\n",
       "      <th>balcony</th>\n",
       "      <th>...</th>\n",
       "      <th>super_built_up_area</th>\n",
       "      <th>built_up_area</th>\n",
       "      <th>carpet_area</th>\n",
       "      <th>study room</th>\n",
       "      <th>servant room</th>\n",
       "      <th>store room</th>\n",
       "      <th>pooja room</th>\n",
       "      <th>others</th>\n",
       "      <th>furnishing_type</th>\n",
       "      <th>luxury_score</th>\n",
       "    </tr>\n",
       "  </thead>\n",
       "  <tbody>\n",
       "    <tr>\n",
       "      <th>0</th>\n",
       "      <td>flat</td>\n",
       "      <td>signature global park 4</td>\n",
       "      <td>sector 36</td>\n",
       "      <td>0.82</td>\n",
       "      <td>7585.0</td>\n",
       "      <td>1081.0</td>\n",
       "      <td>Super Built up area 1081(100.43 sq.m.)Carpet a...</td>\n",
       "      <td>3</td>\n",
       "      <td>2</td>\n",
       "      <td>2</td>\n",
       "      <td>...</td>\n",
       "      <td>1081.0</td>\n",
       "      <td>NaN</td>\n",
       "      <td>650.0</td>\n",
       "      <td>0</td>\n",
       "      <td>0</td>\n",
       "      <td>0</td>\n",
       "      <td>0</td>\n",
       "      <td>0</td>\n",
       "      <td>0</td>\n",
       "      <td>8</td>\n",
       "    </tr>\n",
       "    <tr>\n",
       "      <th>1</th>\n",
       "      <td>flat</td>\n",
       "      <td>smart world gems</td>\n",
       "      <td>sector 89</td>\n",
       "      <td>0.95</td>\n",
       "      <td>8600.0</td>\n",
       "      <td>1105.0</td>\n",
       "      <td>Carpet area: 1103 (102.47 sq.m.)</td>\n",
       "      <td>2</td>\n",
       "      <td>2</td>\n",
       "      <td>2</td>\n",
       "      <td>...</td>\n",
       "      <td>NaN</td>\n",
       "      <td>NaN</td>\n",
       "      <td>1103.0</td>\n",
       "      <td>1</td>\n",
       "      <td>1</td>\n",
       "      <td>0</td>\n",
       "      <td>0</td>\n",
       "      <td>0</td>\n",
       "      <td>0</td>\n",
       "      <td>38</td>\n",
       "    </tr>\n",
       "    <tr>\n",
       "      <th>2</th>\n",
       "      <td>flat</td>\n",
       "      <td>pyramid elite</td>\n",
       "      <td>sector 86</td>\n",
       "      <td>0.46</td>\n",
       "      <td>79.0</td>\n",
       "      <td>58228.0</td>\n",
       "      <td>Carpet area: 58141 (5401.48 sq.m.)</td>\n",
       "      <td>2</td>\n",
       "      <td>2</td>\n",
       "      <td>1</td>\n",
       "      <td>...</td>\n",
       "      <td>NaN</td>\n",
       "      <td>NaN</td>\n",
       "      <td>58141.0</td>\n",
       "      <td>0</td>\n",
       "      <td>0</td>\n",
       "      <td>0</td>\n",
       "      <td>0</td>\n",
       "      <td>0</td>\n",
       "      <td>0</td>\n",
       "      <td>15</td>\n",
       "    </tr>\n",
       "    <tr>\n",
       "      <th>3</th>\n",
       "      <td>flat</td>\n",
       "      <td>breez global hill view</td>\n",
       "      <td>sohna road</td>\n",
       "      <td>0.32</td>\n",
       "      <td>5470.0</td>\n",
       "      <td>585.0</td>\n",
       "      <td>Built Up area: 1000 (92.9 sq.m.)Carpet area: 5...</td>\n",
       "      <td>2</td>\n",
       "      <td>2</td>\n",
       "      <td>1</td>\n",
       "      <td>...</td>\n",
       "      <td>NaN</td>\n",
       "      <td>1000.0</td>\n",
       "      <td>585.0</td>\n",
       "      <td>0</td>\n",
       "      <td>0</td>\n",
       "      <td>0</td>\n",
       "      <td>0</td>\n",
       "      <td>0</td>\n",
       "      <td>0</td>\n",
       "      <td>49</td>\n",
       "    </tr>\n",
       "    <tr>\n",
       "      <th>4</th>\n",
       "      <td>flat</td>\n",
       "      <td>bestech park view sanskruti</td>\n",
       "      <td>sector 92</td>\n",
       "      <td>1.60</td>\n",
       "      <td>8020.0</td>\n",
       "      <td>1995.0</td>\n",
       "      <td>Super Built up area 1995(185.34 sq.m.)Built Up...</td>\n",
       "      <td>3</td>\n",
       "      <td>4</td>\n",
       "      <td>3+</td>\n",
       "      <td>...</td>\n",
       "      <td>1995.0</td>\n",
       "      <td>1615.0</td>\n",
       "      <td>1476.0</td>\n",
       "      <td>0</td>\n",
       "      <td>1</td>\n",
       "      <td>0</td>\n",
       "      <td>0</td>\n",
       "      <td>1</td>\n",
       "      <td>1</td>\n",
       "      <td>174</td>\n",
       "    </tr>\n",
       "  </tbody>\n",
       "</table>\n",
       "<p>5 rows × 23 columns</p>\n",
       "</div>"
      ],
      "text/plain": [
       "  property_type                      society      sector  price  \\\n",
       "0          flat      signature global park 4   sector 36   0.82   \n",
       "1          flat             smart world gems   sector 89   0.95   \n",
       "2          flat                pyramid elite   sector 86   0.46   \n",
       "3          flat       breez global hill view  sohna road   0.32   \n",
       "4          flat  bestech park view sanskruti   sector 92   1.60   \n",
       "\n",
       "   price_per_sqft     area                                       areaWithType  \\\n",
       "0          7585.0   1081.0  Super Built up area 1081(100.43 sq.m.)Carpet a...   \n",
       "1          8600.0   1105.0                   Carpet area: 1103 (102.47 sq.m.)   \n",
       "2            79.0  58228.0                 Carpet area: 58141 (5401.48 sq.m.)   \n",
       "3          5470.0    585.0  Built Up area: 1000 (92.9 sq.m.)Carpet area: 5...   \n",
       "4          8020.0   1995.0  Super Built up area 1995(185.34 sq.m.)Built Up...   \n",
       "\n",
       "   bedRoom  bathroom balcony  ...  super_built_up_area built_up_area  \\\n",
       "0        3         2       2  ...               1081.0           NaN   \n",
       "1        2         2       2  ...                  NaN           NaN   \n",
       "2        2         2       1  ...                  NaN           NaN   \n",
       "3        2         2       1  ...                  NaN        1000.0   \n",
       "4        3         4      3+  ...               1995.0        1615.0   \n",
       "\n",
       "  carpet_area  study room  servant room  store room  pooja room  others  \\\n",
       "0       650.0           0             0           0           0       0   \n",
       "1      1103.0           1             1           0           0       0   \n",
       "2     58141.0           0             0           0           0       0   \n",
       "3       585.0           0             0           0           0       0   \n",
       "4      1476.0           0             1           0           0       1   \n",
       "\n",
       "   furnishing_type  luxury_score  \n",
       "0                0             8  \n",
       "1                0            38  \n",
       "2                0            15  \n",
       "3                0            49  \n",
       "4                1           174  \n",
       "\n",
       "[5 rows x 23 columns]"
      ]
     },
     "execution_count": 8,
     "metadata": {},
     "output_type": "execute_result"
    }
   ],
   "source": [
    "df.head()"
   ]
  },
  {
   "cell_type": "code",
   "execution_count": 10,
   "metadata": {},
   "outputs": [],
   "source": [
    "# 1. Property_type"
   ]
  },
  {
   "cell_type": "code",
   "execution_count": 7,
   "metadata": {},
   "outputs": [
    {
     "data": {
      "text/plain": [
       "<Axes: xlabel='property_type'>"
      ]
     },
     "execution_count": 7,
     "metadata": {},
     "output_type": "execute_result"
    },
    {
     "data": {
      "image/png": "[encoded data removed]",
      "text/plain": [
       "<Figure size 640x480 with 1 Axes>"
      ]
     },
     "metadata": {},
     "output_type": "display_data"
    }
   ],
   "source": [
    "df['property_type'].value_counts().plot(kind='bar')"
   ]
  },
  {
   "cell_type": "markdown",
   "metadata": {},
   "source": [
    "### Observations\n",
    "- flats are in majority i.e. 75% and there are less no. of independent houses\n",
    "- No missing values"
   ]
  },
  {
   "cell_type": "markdown",
   "metadata": {},
   "source": [
    "## society"
   ]
  },
  {
   "cell_type": "code",
   "execution_count": 9,
   "metadata": {},
   "outputs": [
    {
     "data": {
      "text/plain": [
       "society\n",
       "independent                               486\n",
       "tulip violet                               75\n",
       "ss the leaf                                73\n",
       "dlf new town heights                       42\n",
       "shapoorji pallonji joyville gurugram       42\n",
       "                                         ... \n",
       "dlf gardencity enclave                      1\n",
       "nitin vihar                                 1\n",
       "landmark the residency                      1\n",
       "kw royal court                              1\n",
       "surendra homes dayaindependentd colony      1\n",
       "Name: count, Length: 676, dtype: int64"
      ]
     },
     "execution_count": 9,
     "metadata": {},
     "output_type": "execute_result"
    }
   ],
   "source": [
    "df['society'].value_counts()"
   ]
  },
  {
   "cell_type": "code",
   "execution_count": 10,
   "metadata": {},
   "outputs": [
    {
     "data": {
      "text/plain": [
       "(676,)"
      ]
     },
     "execution_count": 10,
     "metadata": {},
     "output_type": "execute_result"
    }
   ],
   "source": [
    "df['society'].value_counts().shape"
   ]
  },
  {
   "cell_type": "code",
   "execution_count": 11,
   "metadata": {},
   "outputs": [
    {
     "data": {
      "text/plain": [
       "society\n",
       "tulip violet                            0.023511\n",
       "ss the leaf                             0.046395\n",
       "shapoorji pallonji joyville gurugram    0.059561\n",
       "dlf new town heights                    0.072727\n",
       "signature global park                   0.083699\n",
       "                                          ...   \n",
       "ramsons kshitij                         0.490282\n",
       "umang monsoon breeze                    0.494357\n",
       "ats kocoon                              0.498433\n",
       "ireo the corridors                      0.502194\n",
       "central park flower valley              0.505956\n",
       "Name: proportion, Length: 75, dtype: float64"
      ]
     },
     "execution_count": 11,
     "metadata": {},
     "output_type": "execute_result"
    }
   ],
   "source": [
    "df[df['society']!= 'independent']['society'].value_counts(normalize=True).cumsum().head(75)"
   ]
  },
  {
   "cell_type": "code",
   "execution_count": 12,
   "metadata": {},
   "outputs": [
    {
     "data": {
      "text/plain": [
       "{'Very High(>100)': 1,\n",
       " 'High (50-100)': 2,\n",
       " 'average(10-49)': 92,\n",
       " 'Low(2-9)': 273,\n",
       " 'very low(1)': 308}"
      ]
     },
     "execution_count": 12,
     "metadata": {},
     "output_type": "execute_result"
    }
   ],
   "source": [
    "society_counts = df['society'].value_counts()\n",
    "\n",
    "# freq dist for society\n",
    "freq_bins = {\n",
    "    'Very High(>100)': (society_counts>100).sum(),\n",
    "    'High (50-100)': ((society_counts>=50) & (society_counts<=100)).sum(),\n",
    "    'average(10-49)': ((society_counts>=10) & (society_counts<=49)).sum(),\n",
    "    'Low(2-9)': ((society_counts>=2) & (society_counts<=9)).sum(),\n",
    "    'very low(1)': (society_counts==1).sum()\n",
    "}\n",
    "freq_bins"
   ]
  },
  {
   "cell_type": "code",
   "execution_count": 13,
   "metadata": {},
   "outputs": [
    {
     "data": {
      "text/plain": [
       "<Axes: xlabel='society'>"
      ]
     },
     "execution_count": 13,
     "metadata": {},
     "output_type": "execute_result"
    },
    {
     "data": {
      "image/png": "[encoded data removed]",
      "text/plain": [
       "<Figure size 640x480 with 1 Axes>"
      ]
     },
     "metadata": {},
     "output_type": "display_data"
    }
   ],
   "source": [
    "# top 10 socities\n",
    "df[df['society'] != 'independent']['society'].value_counts().head(10).plot(kind='bar')"
   ]
  },
  {
   "cell_type": "code",
   "execution_count": 40,
   "metadata": {},
   "outputs": [
    {
     "data": {
      "text/plain": [
       "676"
      ]
     },
     "execution_count": 40,
     "metadata": {},
     "output_type": "execute_result"
    }
   ],
   "source": []
  },
  {
   "cell_type": "code",
   "execution_count": 14,
   "metadata": {},
   "outputs": [
    {
     "data": {
      "text/plain": [
       "society\n",
       "independent                               486\n",
       "tulip violet                               75\n",
       "ss the leaf                                73\n",
       "dlf new town heights                       42\n",
       "shapoorji pallonji joyville gurugram       42\n",
       "                                         ... \n",
       "dlf gardencity enclave                      1\n",
       "nitin vihar                                 1\n",
       "landmark the residency                      1\n",
       "kw royal court                              1\n",
       "surendra homes dayaindependentd colony      1\n",
       "Name: count, Length: 676, dtype: int64"
      ]
     },
     "execution_count": 14,
     "metadata": {},
     "output_type": "execute_result"
    }
   ],
   "source": [
    "society_counts"
   ]
  },
  {
   "cell_type": "code",
   "execution_count": 16,
   "metadata": {},
   "outputs": [
    {
     "data": {
      "text/plain": [
       "(308,)"
      ]
     },
     "execution_count": 16,
     "metadata": {},
     "output_type": "execute_result"
    }
   ],
   "source": [
    "society_counts[society_counts == 1].shape"
   ]
  },
  {
   "cell_type": "markdown",
   "metadata": {},
   "source": [
    "#### Observations\n",
    "\n",
    "- Around 13% properties comes under independent tag.\n",
    "- There are 675 societies. \n",
    "- The top 75 societies have 50 percent of the preperties and the rest 50 percent of the properties come under the remaining 600 societies\n",
    "    - Very High (>100): Only 1 society has more than 100 listings.\n",
    "    - High (50-100): 2 societies have between 50 to 100 listings.\n",
    "    - Average (10-49): 92 societies fall in this range with 10 to 49 listings each.\n",
    "    - Low (2-9): 273 societies have between 2 to 9 listings.\n",
    "    - Very Low (1): A significant number, 308 societies, have only 1 listing.\n",
    "- 1 missing value"
   ]
  },
  {
   "cell_type": "code",
   "execution_count": 17,
   "metadata": {},
   "outputs": [],
   "source": [
    "# sector"
   ]
  },
  {
   "cell_type": "code",
   "execution_count": 18,
   "metadata": {},
   "outputs": [
    {
     "data": {
      "text/plain": [
       "(113,)"
      ]
     },
     "execution_count": 18,
     "metadata": {},
     "output_type": "execute_result"
    }
   ],
   "source": [
    "# unique sectors\n",
    "df['sector'].value_counts().shape"
   ]
  },
  {
   "cell_type": "code",
   "execution_count": null,
   "metadata": {},
   "outputs": [],
   "source": []
  }
 ],
 "metadata": {
  "kernelspec": {
   "display_name": "Python 3 (ipykernel)",
   "language": "python",
   "name": "python3"
  },
  "language_info": {
   "codemirror_mode": {
    "name": "ipython",
    "version": 3
   },
   "file_extension": ".py",
   "mimetype": "text/x-python",
   "name": "python",
   "nbconvert_exporter": "python",
   "pygments_lexer": "ipython3",
   "version": "3.11.3"
  }
 },
 "nbformat": 4,
 "nbformat_minor": 2
}
